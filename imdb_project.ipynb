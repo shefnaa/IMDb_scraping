{
  "nbformat": 4,
  "nbformat_minor": 0,
  "metadata": {
    "colab": {
      "name": "imdb_project.ipynb",
      "provenance": [],
      "collapsed_sections": [],
      "authorship_tag": "ABX9TyMnicsdHFb/b25VYS3FlRFR",
      "include_colab_link": true
    },
    "kernelspec": {
      "name": "python3",
      "display_name": "Python 3"
    },
    "language_info": {
      "name": "python"
    }
  },
  "cells": [
    {
      "cell_type": "markdown",
      "metadata": {
        "id": "view-in-github",
        "colab_type": "text"
      },
      "source": [
        "<a href=\"https://colab.research.google.com/github/shefnaa/IMDb_scraping/blob/main/imdb_project.ipynb\" target=\"_parent\"><img src=\"https://colab.research.google.com/assets/colab-badge.svg\" alt=\"Open In Colab\"/></a>"
      ]
    },
    {
      "cell_type": "code",
      "metadata": {
        "id": "IzUy9RLiv-KO"
      },
      "source": [
        "import time\n",
        "import requests\n",
        "from IPython.display import clear_output\n",
        "from bs4 import BeautifulSoup\n",
        "import pandas as pd"
      ],
      "execution_count": 3,
      "outputs": []
    },
    {
      "cell_type": "code",
      "metadata": {
        "id": "Y-QsPd0JwEYU"
      },
      "source": [
        "base_url='https://www.imdb.com/search/title/?release_date=2021-01-01,2021-12-31&sort=num_votes,desc&start='\n",
        "\n",
        "mname    = []\n",
        "year     = []\n",
        "rating   = []\n",
        "genre    = []\n",
        "rtym     = []\n",
        "typ      = []\n",
        "metascore= []\n",
        "votes    = []\n",
        "certf    = []\n",
        "\n",
        "for i in range(1,101,50):\n",
        "  time.sleep(3)\n",
        "\n",
        "  req=requests.get(base_url+str(i)+'&ref_=adv_nxt',headers={'Accept-language':'en-US, en;q=0.5'})\n",
        "  soup=BeautifulSoup(req.text,'html')\n",
        "\n",
        "\n",
        "  #find each movies\n",
        "  movies=soup.findAll('div',attrs={'class':'lister-item-content'})\n",
        "  for m in movies:\n",
        "\n",
        "    #movie name\n",
        "    name=m.find('h3',attrs={'class':'lister-item-header'}).a.text\n",
        "    mname.append(name)\n",
        "\n",
        "    #year\n",
        "    yr=m.find('span',attrs={'class':'lister-item-year text-muted unbold'}).text.replace('(','').replace(')','')\n",
        "    year.append(yr)\n",
        "  \n",
        "    #rating\n",
        "    rat=m.find('div',attrs={'class':'inline-block ratings-imdb-rating'}).strong.text\n",
        "    rating.append(rat)\n",
        "\n",
        "\n",
        "    #certificate\n",
        "    cert=m.find('span',attrs={'class':'certificate'})\n",
        "    if cert is None:\n",
        "      certf.append('not available')\n",
        "    else:\n",
        "      certf.append(cert.text)\n",
        "  \n",
        "  \n",
        "    #runtime\n",
        "    tym=m.find('span',attrs={'class':'runtime'})\n",
        "    if tym is None:\n",
        "      rtym.append('not available')\n",
        "    else:\n",
        "      rtym.append(tym.text)\n",
        "\n",
        "\n",
        "    #metascore\n",
        "    meta=m.find('span',attrs={'class':'metascore'})\n",
        "    if meta is None:\n",
        "      metascore.append('not available')\n",
        "    else:\n",
        "      metascore.append(meta.text)\n",
        "\n",
        "    #genre\n",
        "    gen=m.find('span',attrs={'class':'genre'}).text\n",
        "    genre.append(gen)\n",
        "  \n",
        "    #votes\n",
        "    v=m.find('span',attrs={'name':'nv'}).text\n",
        "    votes.append(v)\n",
        "\n"
      ],
      "execution_count": 24,
      "outputs": []
    },
    {
      "cell_type": "code",
      "metadata": {
        "id": "t9ZHlea2SHcd"
      },
      "source": [
        "data=pd.DataFrame({'movie_name': mname,\n",
        "                   'released_year': year,\n",
        "                   'rating': rating,\n",
        "                   'genre':genre,\n",
        "                   'duration':rtym,\n",
        "                   'metascore': metascore,\n",
        "                   'votes':votes,\n",
        "                   'certificate': certf})\n",
        "data.to_csv('imdb_project.csv')"
      ],
      "execution_count": 26,
      "outputs": []
    }
  ]
}